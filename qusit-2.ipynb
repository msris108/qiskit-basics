{
 "cells": [
  {
   "cell_type": "code",
   "execution_count": 2,
   "metadata": {},
   "outputs": [],
   "source": [
    "import matplotlib as plt\n",
    "from matplotlib import style"
   ]
  },
  {
   "cell_type": "code",
   "execution_count": 4,
   "metadata": {},
   "outputs": [],
   "source": [
    "style.use('dark_background')"
   ]
  },
  {
   "cell_type": "code",
   "execution_count": null,
   "metadata": {},
   "outputs": [],
   "source": [
    "# Hilbert sphere |0> or |1>"
   ]
  },
  {
   "cell_type": "code",
   "execution_count": 20,
   "metadata": {},
   "outputs": [],
   "source": [
    "from qiskit import QuantumCircuit, execute, Aer\n",
    "from qiskit.visualization import plot_histogram\n",
    "\n",
    "backend = Aer.get_backend('qasm_simulator')"
   ]
  },
  {
   "cell_type": "code",
   "execution_count": 32,
   "metadata": {},
   "outputs": [
    {
     "data": {
      "text/html": [
       "<pre style=\"word-wrap: normal;white-space: pre;background: #fff0;line-height: 1.1;font-family: &quot;Courier New&quot;,Courier,monospace\">     ┌───┐┌─┐   \n",
       "q_0: ┤ H ├┤M├───\n",
       "     ├───┤└╥┘┌─┐\n",
       "q_1: ┤ X ├─╫─┤M├\n",
       "     └───┘ ║ └╥┘\n",
       "c_0: ══════╩══╬═\n",
       "              ║ \n",
       "c_1: ═════════╩═\n",
       "                </pre>"
      ],
      "text/plain": [
       "     ┌───┐┌─┐   \n",
       "q_0: ┤ H ├┤M├───\n",
       "     ├───┤└╥┘┌─┐\n",
       "q_1: ┤ X ├─╫─┤M├\n",
       "     └───┘ ║ └╥┘\n",
       "c_0: ══════╩══╬═\n",
       "              ║ \n",
       "c_1: ═════════╩═\n",
       "                "
      ]
     },
     "execution_count": 32,
     "metadata": {},
     "output_type": "execute_result"
    }
   ],
   "source": [
    "circuit = q.QuantumCircuit(2, 2)\n",
    "circuit.x(1)\n",
    "circuit.h(0)\n",
    "for i in range(2):\n",
    "    circuit.measure(i, i)\n",
    "circuit.draw()"
   ]
  },
  {
   "cell_type": "code",
   "execution_count": 25,
   "metadata": {},
   "outputs": [
    {
     "data": {
      "image/png": "[encoded data removed]",
      "text/plain": [
       "<Figure size 504x360 with 1 Axes>"
      ]
     },
     "execution_count": 25,
     "metadata": {},
     "output_type": "execute_result"
    }
   ],
   "source": [
    "result = execute(circuit, backend).result()\n",
    "counts = result.get_counts()\n",
    "plot_histogram(counts)"
   ]
  },
  {
   "cell_type": "code",
   "execution_count": 33,
   "metadata": {},
   "outputs": [
    {
     "data": {
      "text/html": [
       "<pre style=\"word-wrap: normal;white-space: pre;background: #fff0;line-height: 1.1;font-family: &quot;Courier New&quot;,Courier,monospace\">     ┌─┐                     \n",
       "q_0: ┤M├─────────────────────\n",
       "     └╥┘┌─┐                  \n",
       "q_1: ─╫─┤M├──────────────────\n",
       "      ║ └╥┘┌─┐               \n",
       "q_2: ─╫──╫─┤M├───────────────\n",
       "      ║  ║ └╥┘┌─┐            \n",
       "q_3: ─╫──╫──╫─┤M├────────────\n",
       "      ║  ║  ║ └╥┘┌─┐         \n",
       "q_4: ─╫──╫──╫──╫─┤M├─────────\n",
       "      ║  ║  ║  ║ └╥┘┌─┐      \n",
       "q_5: ─╫──╫──╫──╫──╫─┤M├──────\n",
       "      ║  ║  ║  ║  ║ └╥┘┌─┐   \n",
       "q_6: ─╫──╫──╫──╫──╫──╫─┤M├───\n",
       "      ║  ║  ║  ║  ║  ║ └╥┘┌─┐\n",
       "q_7: ─╫──╫──╫──╫──╫──╫──╫─┤M├\n",
       "      ║  ║  ║  ║  ║  ║  ║ └╥┘\n",
       "c_0: ═╩══╬══╬══╬══╬══╬══╬══╬═\n",
       "         ║  ║  ║  ║  ║  ║  ║ \n",
       "c_1: ════╩══╬══╬══╬══╬══╬══╬═\n",
       "            ║  ║  ║  ║  ║  ║ \n",
       "c_2: ═══════╩══╬══╬══╬══╬══╬═\n",
       "               ║  ║  ║  ║  ║ \n",
       "c_3: ══════════╩══╬══╬══╬══╬═\n",
       "                  ║  ║  ║  ║ \n",
       "c_4: ═════════════╩══╬══╬══╬═\n",
       "                     ║  ║  ║ \n",
       "c_5: ════════════════╩══╬══╬═\n",
       "                        ║  ║ \n",
       "c_6: ═══════════════════╩══╬═\n",
       "                           ║ \n",
       "c_7: ══════════════════════╩═\n",
       "                             </pre>"
      ],
      "text/plain": [
       "     ┌─┐                     \n",
       "q_0: ┤M├─────────────────────\n",
       "     └╥┘┌─┐                  \n",
       "q_1: ─╫─┤M├──────────────────\n",
       "      ║ └╥┘┌─┐               \n",
       "q_2: ─╫──╫─┤M├───────────────\n",
       "      ║  ║ └╥┘┌─┐            \n",
       "q_3: ─╫──╫──╫─┤M├────────────\n",
       "      ║  ║  ║ └╥┘┌─┐         \n",
       "q_4: ─╫──╫──╫──╫─┤M├─────────\n",
       "      ║  ║  ║  ║ └╥┘┌─┐      \n",
       "q_5: ─╫──╫──╫──╫──╫─┤M├──────\n",
       "      ║  ║  ║  ║  ║ └╥┘┌─┐   \n",
       "q_6: ─╫──╫──╫──╫──╫──╫─┤M├───\n",
       "      ║  ║  ║  ║  ║  ║ └╥┘┌─┐\n",
       "q_7: ─╫──╫──╫──╫──╫──╫──╫─┤M├\n",
       "      ║  ║  ║  ║  ║  ║  ║ └╥┘\n",
       "c_0: ═╩══╬══╬══╬══╬══╬══╬══╬═\n",
       "         ║  ║  ║  ║  ║  ║  ║ \n",
       "c_1: ════╩══╬══╬══╬══╬══╬══╬═\n",
       "            ║  ║  ║  ║  ║  ║ \n",
       "c_2: ═══════╩══╬══╬══╬══╬══╬═\n",
       "               ║  ║  ║  ║  ║ \n",
       "c_3: ══════════╩══╬══╬══╬══╬═\n",
       "                  ║  ║  ║  ║ \n",
       "c_4: ═════════════╩══╬══╬══╬═\n",
       "                     ║  ║  ║ \n",
       "c_5: ════════════════╩══╬══╬═\n",
       "                        ║  ║ \n",
       "c_6: ═══════════════════╩══╬═\n",
       "                           ║ \n",
       "c_7: ══════════════════════╩═\n",
       "                             "
      ]
     },
     "execution_count": 33,
     "metadata": {},
     "output_type": "execute_result"
    }
   ],
   "source": [
    "n = 8\n",
    "n_q = n\n",
    "n_b = n\n",
    "qc_output = q.QuantumCircuit(n_q,n_b)\n",
    "for j in range(n):\n",
    "    qc_output.measure(j,j)\n",
    "qc_output.draw()"
   ]
  },
  {
   "cell_type": "code",
   "execution_count": 34,
   "metadata": {},
   "outputs": [
    {
     "data": {
      "image/png": "[encoded data removed]",
      "text/plain": [
       "<Figure size 504x360 with 1 Axes>"
      ]
     },
     "execution_count": 34,
     "metadata": {},
     "output_type": "execute_result"
    }
   ],
   "source": [
    "counts = execute(qc_output, backend).result().get_counts()\n",
    "plot_histogram(counts)"
   ]
  },
  {
   "cell_type": "code",
   "execution_count": 52,
   "metadata": {},
   "outputs": [
    {
     "data": {
      "text/html": [
       "<pre style=\"word-wrap: normal;white-space: pre;background: #fff0;line-height: 1.1;font-family: &quot;Courier New&quot;,Courier,monospace\">          \n",
       "q_0: ─────\n",
       "          \n",
       "q_1: ─────\n",
       "     ┌───┐\n",
       "q_2: ┤ X ├\n",
       "     └───┘\n",
       "q_3: ─────\n",
       "          \n",
       "q_4: ─────\n",
       "          \n",
       "q_5: ─────\n",
       "          \n",
       "q_6: ─────\n",
       "     ┌───┐\n",
       "q_7: ┤ X ├\n",
       "     └───┘</pre>"
      ],
      "text/plain": [
       "          \n",
       "q_0: ─────\n",
       "          \n",
       "q_1: ─────\n",
       "     ┌───┐\n",
       "q_2: ┤ X ├\n",
       "     └───┘\n",
       "q_3: ─────\n",
       "          \n",
       "q_4: ─────\n",
       "          \n",
       "q_5: ─────\n",
       "          \n",
       "q_6: ─────\n",
       "     ┌───┐\n",
       "q_7: ┤ X ├\n",
       "     └───┘"
      ]
     },
     "execution_count": 52,
     "metadata": {},
     "output_type": "execute_result"
    }
   ],
   "source": [
    "qc_encode = QuantumCircuit(n)\n",
    "qc_encode.x(2)\n",
    "#qc_encode.h(4)\n",
    "qc_encode.x(7)\n",
    "\n",
    "qc_encode.draw()"
   ]
  },
  {
   "cell_type": "code",
   "execution_count": 53,
   "metadata": {},
   "outputs": [
    {
     "data": {
      "text/html": [
       "<pre style=\"word-wrap: normal;white-space: pre;background: #fff0;line-height: 1.1;font-family: &quot;Courier New&quot;,Courier,monospace\">          ┌─┐                     \n",
       "q_0: ─────┤M├─────────────────────\n",
       "          └╥┘┌─┐                  \n",
       "q_1: ──────╫─┤M├──────────────────\n",
       "     ┌───┐ ║ └╥┘            ┌─┐   \n",
       "q_2: ┤ X ├─╫──╫─────────────┤M├───\n",
       "     └───┘ ║  ║ ┌─┐         └╥┘   \n",
       "q_3: ──────╫──╫─┤M├──────────╫────\n",
       "           ║  ║ └╥┘┌─┐       ║    \n",
       "q_4: ──────╫──╫──╫─┤M├───────╫────\n",
       "           ║  ║  ║ └╥┘┌─┐    ║    \n",
       "q_5: ──────╫──╫──╫──╫─┤M├────╫────\n",
       "           ║  ║  ║  ║ └╥┘┌─┐ ║    \n",
       "q_6: ──────╫──╫──╫──╫──╫─┤M├─╫────\n",
       "     ┌───┐ ║  ║  ║  ║  ║ └╥┘ ║ ┌─┐\n",
       "q_7: ┤ X ├─╫──╫──╫──╫──╫──╫──╫─┤M├\n",
       "     └───┘ ║  ║  ║  ║  ║  ║  ║ └╥┘\n",
       "c_0: ══════╩══╬══╬══╬══╬══╬══╬══╬═\n",
       "              ║  ║  ║  ║  ║  ║  ║ \n",
       "c_1: ═════════╩══╬══╬══╬══╬══╬══╬═\n",
       "                 ║  ║  ║  ║  ║  ║ \n",
       "c_2: ════════════╬══╬══╬══╬══╩══╬═\n",
       "                 ║  ║  ║  ║     ║ \n",
       "c_3: ════════════╩══╬══╬══╬═════╬═\n",
       "                    ║  ║  ║     ║ \n",
       "c_4: ═══════════════╩══╬══╬═════╬═\n",
       "                       ║  ║     ║ \n",
       "c_5: ══════════════════╩══╬═════╬═\n",
       "                          ║     ║ \n",
       "c_6: ═════════════════════╩═════╬═\n",
       "                                ║ \n",
       "c_7: ═══════════════════════════╩═\n",
       "                                  </pre>"
      ],
      "text/plain": [
       "          ┌─┐                     \n",
       "q_0: ─────┤M├─────────────────────\n",
       "          └╥┘┌─┐                  \n",
       "q_1: ──────╫─┤M├──────────────────\n",
       "     ┌───┐ ║ └╥┘            ┌─┐   \n",
       "q_2: ┤ X ├─╫──╫─────────────┤M├───\n",
       "     └───┘ ║  ║ ┌─┐         └╥┘   \n",
       "q_3: ──────╫──╫─┤M├──────────╫────\n",
       "           ║  ║ └╥┘┌─┐       ║    \n",
       "q_4: ──────╫──╫──╫─┤M├───────╫────\n",
       "           ║  ║  ║ └╥┘┌─┐    ║    \n",
       "q_5: ──────╫──╫──╫──╫─┤M├────╫────\n",
       "           ║  ║  ║  ║ └╥┘┌─┐ ║    \n",
       "q_6: ──────╫──╫──╫──╫──╫─┤M├─╫────\n",
       "     ┌───┐ ║  ║  ║  ║  ║ └╥┘ ║ ┌─┐\n",
       "q_7: ┤ X ├─╫──╫──╫──╫──╫──╫──╫─┤M├\n",
       "     └───┘ ║  ║  ║  ║  ║  ║  ║ └╥┘\n",
       "c_0: ══════╩══╬══╬══╬══╬══╬══╬══╬═\n",
       "              ║  ║  ║  ║  ║  ║  ║ \n",
       "c_1: ═════════╩══╬══╬══╬══╬══╬══╬═\n",
       "                 ║  ║  ║  ║  ║  ║ \n",
       "c_2: ════════════╬══╬══╬══╬══╩══╬═\n",
       "                 ║  ║  ║  ║     ║ \n",
       "c_3: ════════════╩══╬══╬══╬═════╬═\n",
       "                    ║  ║  ║     ║ \n",
       "c_4: ═══════════════╩══╬══╬═════╬═\n",
       "                       ║  ║     ║ \n",
       "c_5: ══════════════════╩══╬═════╬═\n",
       "                          ║     ║ \n",
       "c_6: ═════════════════════╩═════╬═\n",
       "                                ║ \n",
       "c_7: ═══════════════════════════╩═\n",
       "                                  "
      ]
     },
     "execution_count": 53,
     "metadata": {},
     "output_type": "execute_result"
    }
   ],
   "source": [
    "qc = qc_encode + qc_output\n",
    "qc.draw()"
   ]
  },
  {
   "cell_type": "code",
   "execution_count": 59,
   "metadata": {},
   "outputs": [],
   "source": [
    "def run(qc):\n",
    "    counts = execute(qc, backend).result().get_counts()\n",
    "    return plot_histogram(counts)"
   ]
  },
  {
   "cell_type": "code",
   "execution_count": 48,
   "metadata": {},
   "outputs": [],
   "source": [
    "# 0000000 + 1000000 = 1000000 "
   ]
  },
  {
   "cell_type": "code",
   "execution_count": null,
   "metadata": {},
   "outputs": [],
   "source": [
    "#  C-not "
   ]
  },
  {
   "cell_type": "code",
   "execution_count": 55,
   "metadata": {},
   "outputs": [
    {
     "data": {
      "text/html": [
       "<pre style=\"word-wrap: normal;white-space: pre;background: #fff0;line-height: 1.1;font-family: &quot;Courier New&quot;,Courier,monospace\">          \n",
       "q_0: ──■──\n",
       "     ┌─┴─┐\n",
       "q_1: ┤ X ├\n",
       "     └───┘</pre>"
      ],
      "text/plain": [
       "          \n",
       "q_0: ──■──\n",
       "     ┌─┴─┐\n",
       "q_1: ┤ X ├\n",
       "     └───┘"
      ]
     },
     "execution_count": 55,
     "metadata": {},
     "output_type": "execute_result"
    }
   ],
   "source": [
    "qc_cnot = QuantumCircuit(2)\n",
    "qc_cnot.cx(0,1)\n",
    "qc_cnot.draw()"
   ]
  },
  {
   "cell_type": "code",
   "execution_count": 71,
   "metadata": {},
   "outputs": [
    {
     "data": {
      "text/html": [
       "<pre style=\"word-wrap: normal;white-space: pre;background: #fff0;line-height: 1.1;font-family: &quot;Courier New&quot;,Courier,monospace\">               ┌─┐   \n",
       "q_0: ───────■──┤M├───\n",
       "     ┌───┐┌─┴─┐└╥┘┌─┐\n",
       "q_1: ┤ X ├┤ X ├─╫─┤M├\n",
       "     └───┘└───┘ ║ └╥┘\n",
       "c_0: ═══════════╩══╬═\n",
       "                   ║ \n",
       "c_1: ══════════════╩═\n",
       "                     </pre>"
      ],
      "text/plain": [
       "               ┌─┐   \n",
       "q_0: ───────■──┤M├───\n",
       "     ┌───┐┌─┴─┐└╥┘┌─┐\n",
       "q_1: ┤ X ├┤ X ├─╫─┤M├\n",
       "     └───┘└───┘ ║ └╥┘\n",
       "c_0: ═══════════╩══╬═\n",
       "                   ║ \n",
       "c_1: ══════════════╩═\n",
       "                     "
      ]
     },
     "execution_count": 71,
     "metadata": {},
     "output_type": "execute_result"
    }
   ],
   "source": [
    "qc = QuantumCircuit(2,2)\n",
    "#qc.x(0)\n",
    "qc.x(1)\n",
    "qc.cx(0,1)\n",
    "qc.measure(0,0)\n",
    "qc.measure(1,1)\n",
    "qc.draw()"
   ]
  },
  {
   "cell_type": "code",
   "execution_count": 72,
   "metadata": {},
   "outputs": [
    {
     "data": {
      "image/png": "[encoded data removed]",
      "text/plain": [
       "<Figure size 504x360 with 1 Axes>"
      ]
     },
     "execution_count": 72,
     "metadata": {},
     "output_type": "execute_result"
    }
   ],
   "source": [
    "run(qc)"
   ]
  },
  {
   "cell_type": "code",
   "execution_count": 73,
   "metadata": {},
   "outputs": [],
   "source": [
    "# half adder"
   ]
  },
  {
   "cell_type": "code",
   "execution_count": 84,
   "metadata": {},
   "outputs": [
    {
     "data": {
      "text/html": [
       "<pre style=\"word-wrap: normal;white-space: pre;background: #fff0;line-height: 1.1;font-family: &quot;Courier New&quot;,Courier,monospace\">     ┌───┐ ░            ░       \n",
       "q_0: ┤ X ├─░───■────────░───────\n",
       "     ├───┤ ░   │        ░       \n",
       "q_1: ┤ X ├─░───┼────■───░───────\n",
       "     └───┘ ░ ┌─┴─┐┌─┴─┐ ░ ┌─┐   \n",
       "q_2: ──────░─┤ X ├┤ X ├─░─┤M├───\n",
       "           ░ └───┘└───┘ ░ └╥┘┌─┐\n",
       "q_3: ──────░────────────░──╫─┤M├\n",
       "           ░            ░  ║ └╥┘\n",
       "c_0: ══════════════════════╩══╬═\n",
       "                              ║ \n",
       "c_1: ═════════════════════════╩═\n",
       "                                </pre>"
      ],
      "text/plain": [
       "     ┌───┐ ░            ░       \n",
       "q_0: ┤ X ├─░───■────────░───────\n",
       "     ├───┤ ░   │        ░       \n",
       "q_1: ┤ X ├─░───┼────■───░───────\n",
       "     └───┘ ░ ┌─┴─┐┌─┴─┐ ░ ┌─┐   \n",
       "q_2: ──────░─┤ X ├┤ X ├─░─┤M├───\n",
       "           ░ └───┘└───┘ ░ └╥┘┌─┐\n",
       "q_3: ──────░────────────░──╫─┤M├\n",
       "           ░            ░  ║ └╥┘\n",
       "c_0: ══════════════════════╩══╬═\n",
       "                              ║ \n",
       "c_1: ═════════════════════════╩═\n",
       "                                "
      ]
     },
     "execution_count": 84,
     "metadata": {},
     "output_type": "execute_result"
    }
   ],
   "source": [
    "qc_ha_v1 = QuantumCircuit(4,2)\n",
    "# encode inputs in qubits 0 and 1\n",
    "qc_ha_v1.x(0) # For a=0, remove this line. For a=1, leave it.\n",
    "qc_ha_v1.x(1) # For b=0, remove this line. For b=1, leave it.\n",
    "qc_ha_v1.barrier()\n",
    "# use cnots to write the XOR of the inputs on qubit 2\n",
    "qc_ha_v1.cx(0,2)\n",
    "qc_ha_v1.cx(1,2)\n",
    "qc_ha_v1.barrier()\n",
    "# extract outputs\n",
    "qc_ha_v1.measure(2,0) # extract XOR value\n",
    "qc_ha_v1.measure(3,1)\n",
    "\n",
    "qc_ha_v1.draw()"
   ]
  },
  {
   "cell_type": "code",
   "execution_count": 85,
   "metadata": {},
   "outputs": [
    {
     "data": {
      "image/png": "[encoded data removed]",
      "text/plain": [
       "<Figure size 504x360 with 1 Axes>"
      ]
     },
     "execution_count": 85,
     "metadata": {},
     "output_type": "execute_result"
    }
   ],
   "source": [
    "run(qc_ha_v1)"
   ]
  },
  {
   "cell_type": "code",
   "execution_count": 86,
   "metadata": {},
   "outputs": [],
   "source": [
    "# problem is 1 + 1 = 0"
   ]
  },
  {
   "cell_type": "code",
   "execution_count": 87,
   "metadata": {},
   "outputs": [
    {
     "data": {
      "text/html": [
       "<pre style=\"word-wrap: normal;white-space: pre;background: #fff0;line-height: 1.1;font-family: &quot;Courier New&quot;,Courier,monospace\">     ┌───┐ ░                 ░       \n",
       "q_0: ┤ X ├─░───■─────────■───░───────\n",
       "     ├───┤ ░   │         │   ░       \n",
       "q_1: ┤ X ├─░───┼────■────■───░───────\n",
       "     └───┘ ░ ┌─┴─┐┌─┴─┐  │   ░ ┌─┐   \n",
       "q_2: ──────░─┤ X ├┤ X ├──┼───░─┤M├───\n",
       "           ░ └───┘└───┘┌─┴─┐ ░ └╥┘┌─┐\n",
       "q_3: ──────░───────────┤ X ├─░──╫─┤M├\n",
       "           ░           └───┘ ░  ║ └╥┘\n",
       "c_0: ═══════════════════════════╩══╬═\n",
       "                                   ║ \n",
       "c_1: ══════════════════════════════╩═\n",
       "                                     </pre>"
      ],
      "text/plain": [
       "     ┌───┐ ░                 ░       \n",
       "q_0: ┤ X ├─░───■─────────■───░───────\n",
       "     ├───┤ ░   │         │   ░       \n",
       "q_1: ┤ X ├─░───┼────■────■───░───────\n",
       "     └───┘ ░ ┌─┴─┐┌─┴─┐  │   ░ ┌─┐   \n",
       "q_2: ──────░─┤ X ├┤ X ├──┼───░─┤M├───\n",
       "           ░ └───┘└───┘┌─┴─┐ ░ └╥┘┌─┐\n",
       "q_3: ──────░───────────┤ X ├─░──╫─┤M├\n",
       "           ░           └───┘ ░  ║ └╥┘\n",
       "c_0: ═══════════════════════════╩══╬═\n",
       "                                   ║ \n",
       "c_1: ══════════════════════════════╩═\n",
       "                                     "
      ]
     },
     "execution_count": 87,
     "metadata": {},
     "output_type": "execute_result"
    }
   ],
   "source": [
    "qc_ha = QuantumCircuit(4,2)\n",
    "# encode inputs in qubits 0 and 1\n",
    "qc_ha.x(0) # For a=0, remove the this line. For a=1, leave it.\n",
    "qc_ha.x(1) # For b=0, remove the this line. For b=1, leave it.\n",
    "qc_ha.barrier()\n",
    "# use cnots to write the XOR of the inputs on qubit 2\n",
    "qc_ha.cx(0,2)\n",
    "qc_ha.cx(1,2)\n",
    "# use ccx to write the AND of the inputs on qubit 3\n",
    "qc_ha.ccx(0,1,3)\n",
    "qc_ha.barrier()\n",
    "# extract outputs\n",
    "qc_ha.measure(2,0) # extract XOR value\n",
    "qc_ha.measure(3,1) # extract AND value\n",
    "\n",
    "qc_ha.draw()"
   ]
  },
  {
   "cell_type": "code",
   "execution_count": 88,
   "metadata": {},
   "outputs": [
    {
     "data": {
      "image/png": "[encoded data removed]",
      "text/plain": [
       "<Figure size 504x360 with 1 Axes>"
      ]
     },
     "execution_count": 88,
     "metadata": {},
     "output_type": "execute_result"
    }
   ],
   "source": [
    "run(qc_ha)"
   ]
  },
  {
   "cell_type": "code",
   "execution_count": 102,
   "metadata": {},
   "outputs": [
    {
     "data": {
      "text/html": [
       "<pre style=\"word-wrap: normal;white-space: pre;background: #fff0;line-height: 1.1;font-family: &quot;Courier New&quot;,Courier,monospace\">           ░                           ░       ┌─┐\n",
       "q_0: ──────░───■────■──────────────■───░───────┤M├\n",
       "     ┌───┐ ░   │  ┌─┴─┐          ┌─┴─┐ ░    ┌─┐└╥┘\n",
       "q_1: ┤ X ├─░───■──┤ X ├──■────■──┤ X ├─░────┤M├─╫─\n",
       "     ├───┤ ░   │  └───┘  │  ┌─┴─┐└───┘ ░ ┌─┐└╥┘ ║ \n",
       "q_2: ┤ X ├─░───┼─────────■──┤ X ├──────░─┤M├─╫──╫─\n",
       "     └───┘ ░ ┌─┴─┐     ┌─┴─┐└───┘      ░ └╥┘ ║  ║ \n",
       "q_3: ──────░─┤ X ├─────┤ X ├───────────░──╫──╫──╫─\n",
       "           ░ └───┘     └───┘           ░  ║  ║  ║ \n",
       "c_0: ═════════════════════════════════════╩══╬══╬═\n",
       "                                             ║  ║ \n",
       "c_1: ════════════════════════════════════════╩══╬═\n",
       "                                                ║ \n",
       "c_2: ═══════════════════════════════════════════╩═\n",
       "                                                  </pre>"
      ],
      "text/plain": [
       "           ░                           ░       ┌─┐\n",
       "q_0: ──────░───■────■──────────────■───░───────┤M├\n",
       "     ┌───┐ ░   │  ┌─┴─┐          ┌─┴─┐ ░    ┌─┐└╥┘\n",
       "q_1: ┤ X ├─░───■──┤ X ├──■────■──┤ X ├─░────┤M├─╫─\n",
       "     ├───┤ ░   │  └───┘  │  ┌─┴─┐└───┘ ░ ┌─┐└╥┘ ║ \n",
       "q_2: ┤ X ├─░───┼─────────■──┤ X ├──────░─┤M├─╫──╫─\n",
       "     └───┘ ░ ┌─┴─┐     ┌─┴─┐└───┘      ░ └╥┘ ║  ║ \n",
       "q_3: ──────░─┤ X ├─────┤ X ├───────────░──╫──╫──╫─\n",
       "           ░ └───┘     └───┘           ░  ║  ║  ║ \n",
       "c_0: ═════════════════════════════════════╩══╬══╬═\n",
       "                                             ║  ║ \n",
       "c_1: ════════════════════════════════════════╩══╬═\n",
       "                                                ║ \n",
       "c_2: ═══════════════════════════════════════════╩═\n",
       "                                                  "
      ]
     },
     "execution_count": 102,
     "metadata": {},
     "output_type": "execute_result"
    }
   ],
   "source": [
    "qc_fa = QuantumCircuit(4,3)\n",
    "\n",
    "# input bits\n",
    "qc_fa.x(0) # For a=0, remove the this line. For a=1, leave it.\n",
    "qc_fa.x(1) # For b=0, remove the this line. For b=1, leave it.\n",
    "qc_fa.x(2) # For cin=0, remove the this line. For a=1, leave it.\n",
    "\n",
    "qc_fa.barrier()\n",
    "\n",
    "qc_fa.ccx(0,1,3)\n",
    "qc_fa.cx(0,1)\n",
    "qc_fa.ccx(1,2,3)\n",
    "qc_fa.cx(1,2)\n",
    "qc_fa.cx(0,1)\n",
    "\n",
    "qc_fa.barrier()\n",
    "\n",
    "qc_fa.measure(2, 0)\n",
    "qc_fa.measure(1, 1)\n",
    "qc_fa.measure(0, 2)\n",
    "\n",
    "qc_fa.draw()"
   ]
  },
  {
   "cell_type": "code",
   "execution_count": 103,
   "metadata": {},
   "outputs": [
    {
     "data": {
      "image/png": "[encoded data removed]",
      "text/plain": [
       "<Figure size 504x360 with 1 Axes>"
      ]
     },
     "execution_count": 103,
     "metadata": {},
     "output_type": "execute_result"
    }
   ],
   "source": [
    "run(qc_fa)"
   ]
  },
  {
   "cell_type": "code",
   "execution_count": null,
   "metadata": {},
   "outputs": [],
   "source": []
  },
  {
   "cell_type": "code",
   "execution_count": null,
   "metadata": {},
   "outputs": [],
   "source": []
  }
 ],
 "metadata": {
  "kernelspec": {
   "display_name": "Python 3",
   "language": "python",
   "name": "python3"
  },
  "language_info": {
   "codemirror_mode": {
    "name": "ipython",
    "version": 3
   },
   "file_extension": ".py",
   "mimetype": "text/x-python",
   "name": "python",
   "nbconvert_exporter": "python",
   "pygments_lexer": "ipython3",
   "version": "3.7.6"
  }
 },
 "nbformat": 4,
 "nbformat_minor": 4
}
